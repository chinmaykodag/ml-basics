{
  "nbformat": 4,
  "nbformat_minor": 0,
  "metadata": {
    "colab": {
      "name": "HousePredictionTensor.ipynb",
      "version": "0.3.2",
      "provenance": [],
      "include_colab_link": true
    },
    "kernelspec": {
      "name": "python3",
      "display_name": "Python 3"
    }
  },
  "cells": [
    {
      "cell_type": "markdown",
      "metadata": {
        "id": "view-in-github",
        "colab_type": "text"
      },
      "source": [
        "[View in Colaboratory](https://colab.research.google.com/github/chinmaykodag/ml-basics/blob/master/HousePredictionTensor.ipynb)"
      ]
    },
    {
      "metadata": {
        "id": "hIFhnQLJDBg2",
        "colab_type": "text"
      },
      "cell_type": "markdown",
      "source": [
        "House Price Prediction using TF\n"
      ]
    },
    {
      "metadata": {
        "id": "7C4SUxrogUrb",
        "colab_type": "code",
        "colab": {}
      },
      "cell_type": "code",
      "source": [
        "import tensorflow as tf\n",
        "import numpy as np\n",
        "import math\n",
        "import matplotlib as plt\n",
        "import matplotlib.animation as animation\n",
        "\n",
        "#generate some house sizes between 1000 and 3500 \n",
        "\n",
        "num_house = 160\n",
        "np.random.seed(42)\n",
        "house_size = np.random.randint(low=1000,high=3500,size=num_house)\n",
        "\n",
        "#generate house prices from house size with a random noise added\n",
        "\n",
        "np.random.seed(42)\n",
        "house_price = house_size*100.0 + np.random.randint(low=20000,high=700000)\n"
      ],
      "execution_count": 0,
      "outputs": []
    }
  ]
}