{
 "cells": [
  {
   "cell_type": "code",
   "execution_count": 5,
   "metadata": {},
   "outputs": [
    {
     "name": "stdout",
     "output_type": "stream",
     "text": [
      "[0 0 0 0 0 0 0 0 0 0 0 0 0 0 0 0 0 0 0 0 0 0 0 0 0 1 1 1 1 1 1 2 1 1 1 1 1\n",
      " 1 1 1 1 2 1 1 1 1 1 1 1 1 2 2 2 2 2 2 2 2 2 1 2 2 2 2 2 2 2 2 2 2 2 2 2 2\n",
      " 2]\n",
      "Accuracy= 0.96\n"
     ]
    }
   ],
   "source": [
    "import numpy\n",
    "from sklearn import datasets,metrics,neighbors\n",
    "\n",
    "(data,targets)=datasets.load_iris(return_X_y=True)\n",
    "\n",
    "trainingset=data[range(0,150,2),:]\n",
    "trainingsettarget=targets[range(0,150,2)]\n",
    "\n",
    "testset=data[range(1,150,2),:]\n",
    "testsettarget=targets[range(1,150,2)]\n",
    "\n",
    "clf=neighbors.KNeighborsClassifier(n_neighbors=3,weights='uniform')\n",
    "\n",
    "clf.fit(trainingset,trainingsettarget)\n",
    "\n",
    "predictions=clf.predict(testset)\n",
    "\n",
    "print(predictions)\n",
    "\n",
    "print(\"Accuracy=\",metrics.accuracy_score(testsettarget,predictions))\n"
   ]
  },
  {
   "cell_type": "code",
   "execution_count": 8,
   "metadata": {},
   "outputs": [
    {
     "name": "stdout",
     "output_type": "stream",
     "text": [
      "[0 0 0 0 0 0 0 0 0 0 0 0 0 0 0 0 0 0 0 0 0 0 0 0 0 1 1 1 1 1 1 1 1 1 1 1 1\n",
      " 1 2 1 1 1 1 1 1 1 1 1 1 1 2 2 2 2 2 2 2 2 2 1 2 2 2 2 2 2 1 2 2 2 2 2 2 2\n",
      " 1]\n",
      "Accuracy= 0.9466666666666667\n"
     ]
    }
   ],
   "source": [
    "import numpy\n",
    "from sklearn import datasets, metrics, tree\n",
    "\n",
    "(data,targets)=datasets.load_iris(return_X_y=True)\n",
    "\n",
    "trainingset=data[range(0,150,2),:]\n",
    "trainingsettarget=targets[range(0,150,2)]\n",
    "\n",
    "testset=data[range(1,150,2),:]\n",
    "testsettarget=targets[range(1,150,2)]\n",
    "\n",
    "clf=tree.DecisionTreeClassifier(criterion='entropy')\n",
    "\n",
    "clf.fit(trainingset,trainingsettarget)\n",
    "\n",
    "predictions=clf.predict(testset)\n",
    "\n",
    "print(predictions)\n",
    "\n",
    "print(\"Accuracy=\",metrics.accuracy_score(testsettarget,predictions))"
   ]
  },
  {
   "cell_type": "code",
   "execution_count": null,
   "metadata": {},
   "outputs": [],
   "source": []
  },
  {
   "cell_type": "code",
   "execution_count": 11,
   "metadata": {},
   "outputs": [
    {
     "name": "stdout",
     "output_type": "stream",
     "text": [
      "[0 0 0 0 0 0 0 0 0 0 0 0 0 0 0 0 0 0 0 0 0 0 0 0 0 1 1 1 1 1 1 1 1 1 1 1 1\n",
      " 1 2 1 1 1 1 1 1 1 1 1 1 1 2 2 2 2 2 2 2 2 2 1 2 2 2 2 2 2 1 2 2 2 2 2 2 2\n",
      " 2]\n",
      "Accuracy= 0.96\n"
     ]
    }
   ],
   "source": [
    "import numpy\n",
    "from sklearn import datasets, metrics, tree\n",
    "\n",
    "(data,targets)=datasets.load_iris(return_X_y=True)\n",
    "\n",
    "trainingset=data[range(0,150,2),:]\n",
    "trainingsettarget=targets[range(0,150,2)]\n",
    "\n",
    "testset=data[range(1,150,2),:]\n",
    "testsettarget=targets[range(1,150,2)]\n",
    "\n",
    "clf=tree.DecisionTreeClassifier(criterion='entropy')\n",
    "\n",
    "clf.fit(trainingset,trainingsettarget)\n",
    "\n",
    "predictions=clf.predict(testset)\n",
    "\n",
    "print(predictions)\n",
    "\n",
    "print(\"Accuracy=\",metrics.accuracy_score(testsettarget,predictions))"
   ]
  },
  {
   "cell_type": "code",
   "execution_count": null,
   "metadata": {},
   "outputs": [],
   "source": []
  },
  {
   "cell_type": "code",
   "execution_count": 4,
   "metadata": {},
   "outputs": [
    {
     "name": "stdout",
     "output_type": "stream",
     "text": [
      "[0 0 0 0 0 0 0 0 0 0 0 0 0 0 0 0 0 0 0 0 0 0 0 0 0 1 1 1 1 1 1 1 1 1 1 1 1\n",
      " 1 2 1 1 1 1 1 1 1 1 1 1 1 2 2 2 2 2 2 2 2 2 1 2 2 2 2 2 2 1 2 2 2 2 2 2 2\n",
      " 2]\n",
      "Accuracy= 0.96\n"
     ]
    }
   ],
   "source": [
    "import numpy\n",
    "from sklearn import datasets,metrics\n",
    "from sklearn.naive_bayes import GaussianNB\n",
    "\n",
    "(data,targets)=datasets.load_iris(return_X_y=True)\n",
    "\n",
    "trainingset=data[range(0,150,2),:]\n",
    "trainingsettarget=targets[range(0,150,2)]\n",
    "\n",
    "testset=data[range(1,150,2),:]\n",
    "testsettarget=targets[range(1,150,2)]\n",
    "\n",
    "clf=GaussianNB()\n",
    "\n",
    "clf.fit(trainingset,trainingsettarget)\n",
    "predictions=clf.predict(testset)\n",
    "\n",
    "print(predictions)\n",
    "\n",
    "print('Accuracy=',metrics.accuracy_score(testsettarget,predictions))"
   ]
  },
  {
   "cell_type": "code",
   "execution_count": 5,
   "metadata": {},
   "outputs": [
    {
     "name": "stdout",
     "output_type": "stream",
     "text": [
      "MAE=\n"
     ]
    }
   ],
   "source": [
    "import numpy\n",
    "from sklearn import linear_model\n",
    "\n",
    "(data,targets)=datasets.load_boston(return_X_y=True)\n",
    "\n",
    "trainingset=data[0:400,:]\n",
    "trainingsettarget=targets[0:400]\n",
    "\n",
    "testset=data[400:506,:]\n",
    "testsettarget=targets[400:506]\n",
    "\n",
    "\n",
    "regr=linear_model.LinearRegression()\n",
    "\n",
    "regr.fit(trainingset,trainingsettarget)\n",
    "\n",
    "predictions=regr.predict(testset)\n",
    "\n",
    "print(\"MAE=\",metrics.mean_absolute_error(testsettarget,predictions))"
   ]
  },
  {
   "cell_type": "code",
   "execution_count": 7,
   "metadata": {},
   "outputs": [
    {
     "name": "stdout",
     "output_type": "stream",
     "text": [
      "MAE= 5.1602743252259895\n"
     ]
    },
    {
     "ename": "ValueError",
     "evalue": "continuous is not supported",
     "output_type": "error",
     "traceback": [
      "\u001b[1;31m---------------------------------------------------------------------------\u001b[0m",
      "\u001b[1;31mValueError\u001b[0m                                Traceback (most recent call last)",
      "\u001b[1;32m<ipython-input-7-62ffc51aad79>\u001b[0m in \u001b[0;36m<module>\u001b[1;34m()\u001b[0m\n\u001b[0;32m     18\u001b[0m \u001b[1;33m\u001b[0m\u001b[0m\n\u001b[0;32m     19\u001b[0m \u001b[0mprint\u001b[0m\u001b[1;33m(\u001b[0m\u001b[1;34m\"MAE=\"\u001b[0m\u001b[1;33m,\u001b[0m\u001b[0mmetrics\u001b[0m\u001b[1;33m.\u001b[0m\u001b[0mmean_absolute_error\u001b[0m\u001b[1;33m(\u001b[0m\u001b[0mtestsettarget\u001b[0m\u001b[1;33m,\u001b[0m\u001b[0mpredictions\u001b[0m\u001b[1;33m)\u001b[0m\u001b[1;33m)\u001b[0m\u001b[1;33m\u001b[0m\u001b[0m\n\u001b[1;32m---> 20\u001b[1;33m \u001b[0mprint\u001b[0m\u001b[1;33m(\u001b[0m\u001b[1;34m'Accuracy'\u001b[0m\u001b[1;33m,\u001b[0m\u001b[0mmetrics\u001b[0m\u001b[1;33m.\u001b[0m\u001b[0maccuracy_score\u001b[0m\u001b[1;33m(\u001b[0m\u001b[0mtestsettarget\u001b[0m\u001b[1;33m,\u001b[0m\u001b[0mpredictions\u001b[0m\u001b[1;33m)\u001b[0m\u001b[1;33m)\u001b[0m\u001b[1;33m\u001b[0m\u001b[0m\n\u001b[0m",
      "\u001b[1;32m~\\Anaconda3\\lib\\site-packages\\sklearn\\metrics\\classification.py\u001b[0m in \u001b[0;36maccuracy_score\u001b[1;34m(y_true, y_pred, normalize, sample_weight)\u001b[0m\n\u001b[0;32m    174\u001b[0m \u001b[1;33m\u001b[0m\u001b[0m\n\u001b[0;32m    175\u001b[0m     \u001b[1;31m# Compute accuracy for each possible representation\u001b[0m\u001b[1;33m\u001b[0m\u001b[1;33m\u001b[0m\u001b[0m\n\u001b[1;32m--> 176\u001b[1;33m     \u001b[0my_type\u001b[0m\u001b[1;33m,\u001b[0m \u001b[0my_true\u001b[0m\u001b[1;33m,\u001b[0m \u001b[0my_pred\u001b[0m \u001b[1;33m=\u001b[0m \u001b[0m_check_targets\u001b[0m\u001b[1;33m(\u001b[0m\u001b[0my_true\u001b[0m\u001b[1;33m,\u001b[0m \u001b[0my_pred\u001b[0m\u001b[1;33m)\u001b[0m\u001b[1;33m\u001b[0m\u001b[0m\n\u001b[0m\u001b[0;32m    177\u001b[0m     \u001b[1;32mif\u001b[0m \u001b[0my_type\u001b[0m\u001b[1;33m.\u001b[0m\u001b[0mstartswith\u001b[0m\u001b[1;33m(\u001b[0m\u001b[1;34m'multilabel'\u001b[0m\u001b[1;33m)\u001b[0m\u001b[1;33m:\u001b[0m\u001b[1;33m\u001b[0m\u001b[0m\n\u001b[0;32m    178\u001b[0m         \u001b[0mdiffering_labels\u001b[0m \u001b[1;33m=\u001b[0m \u001b[0mcount_nonzero\u001b[0m\u001b[1;33m(\u001b[0m\u001b[0my_true\u001b[0m \u001b[1;33m-\u001b[0m \u001b[0my_pred\u001b[0m\u001b[1;33m,\u001b[0m \u001b[0maxis\u001b[0m\u001b[1;33m=\u001b[0m\u001b[1;36m1\u001b[0m\u001b[1;33m)\u001b[0m\u001b[1;33m\u001b[0m\u001b[0m\n",
      "\u001b[1;32m~\\Anaconda3\\lib\\site-packages\\sklearn\\metrics\\classification.py\u001b[0m in \u001b[0;36m_check_targets\u001b[1;34m(y_true, y_pred)\u001b[0m\n\u001b[0;32m     86\u001b[0m     \u001b[1;31m# No metrics support \"multiclass-multioutput\" format\u001b[0m\u001b[1;33m\u001b[0m\u001b[1;33m\u001b[0m\u001b[0m\n\u001b[0;32m     87\u001b[0m     \u001b[1;32mif\u001b[0m \u001b[1;33m(\u001b[0m\u001b[0my_type\u001b[0m \u001b[1;32mnot\u001b[0m \u001b[1;32min\u001b[0m \u001b[1;33m[\u001b[0m\u001b[1;34m\"binary\"\u001b[0m\u001b[1;33m,\u001b[0m \u001b[1;34m\"multiclass\"\u001b[0m\u001b[1;33m,\u001b[0m \u001b[1;34m\"multilabel-indicator\"\u001b[0m\u001b[1;33m]\u001b[0m\u001b[1;33m)\u001b[0m\u001b[1;33m:\u001b[0m\u001b[1;33m\u001b[0m\u001b[0m\n\u001b[1;32m---> 88\u001b[1;33m         \u001b[1;32mraise\u001b[0m \u001b[0mValueError\u001b[0m\u001b[1;33m(\u001b[0m\u001b[1;34m\"{0} is not supported\"\u001b[0m\u001b[1;33m.\u001b[0m\u001b[0mformat\u001b[0m\u001b[1;33m(\u001b[0m\u001b[0my_type\u001b[0m\u001b[1;33m)\u001b[0m\u001b[1;33m)\u001b[0m\u001b[1;33m\u001b[0m\u001b[0m\n\u001b[0m\u001b[0;32m     89\u001b[0m \u001b[1;33m\u001b[0m\u001b[0m\n\u001b[0;32m     90\u001b[0m     \u001b[1;32mif\u001b[0m \u001b[0my_type\u001b[0m \u001b[1;32min\u001b[0m \u001b[1;33m[\u001b[0m\u001b[1;34m\"binary\"\u001b[0m\u001b[1;33m,\u001b[0m \u001b[1;34m\"multiclass\"\u001b[0m\u001b[1;33m]\u001b[0m\u001b[1;33m:\u001b[0m\u001b[1;33m\u001b[0m\u001b[0m\n",
      "\u001b[1;31mValueError\u001b[0m: continuous is not supported"
     ]
    }
   ],
   "source": [
    "import numpy\n",
    "from sklearn import linear_model\n",
    "\n",
    "(data,targets)=datasets.load_boston(return_X_y=True)\n",
    "\n",
    "trainingset=data[0:400,:]\n",
    "trainingsettarget=targets[0:400]\n",
    "\n",
    "testset=data[400:506,:]\n",
    "testsettarget=targets[400:506]\n",
    "\n",
    "\n",
    "regr=linear_model.LinearRegression()\n",
    "\n",
    "regr.fit(trainingset,trainingsettarget)\n",
    "\n",
    "predictions=regr.predict(testset)\n",
    "\n",
    "print(\"MAE=\",metrics.mean_absolute_error(testsettarget,predictions))\n"
   ]
  },
  {
   "cell_type": "code",
   "execution_count": 9,
   "metadata": {},
   "outputs": [],
   "source": [
    "import numpy\n",
    "import pandas\n",
    "\n",
    "a=numpy.array([[1,2,3],[4,5,6],[7,8,9]])\n",
    "numpy.savetxt('file.csv',a,delimiter=',')\n",
    "\n",
    "\n"
   ]
  },
  {
   "cell_type": "code",
   "execution_count": null,
   "metadata": {},
   "outputs": [],
   "source": []
  }
 ],
 "metadata": {
  "kernelspec": {
   "display_name": "Python 3",
   "language": "python",
   "name": "python3"
  },
  "language_info": {
   "codemirror_mode": {
    "name": "ipython",
    "version": 3
   },
   "file_extension": ".py",
   "mimetype": "text/x-python",
   "name": "python",
   "nbconvert_exporter": "python",
   "pygments_lexer": "ipython3",
   "version": "3.6.5"
  }
 },
 "nbformat": 4,
 "nbformat_minor": 2
}
